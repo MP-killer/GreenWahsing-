{
 "cells": [
  {
   "cell_type": "code",
   "execution_count": 1,
   "metadata": {},
   "outputs": [],
   "source": [
    "import numpy as np\n",
    "import pandas as pd\n",
    "from urllib.request import urlopen\n",
    "from bs4 import BeautifulSoup\n",
    "# Importing BeautifulSoup class from the bs4 module\n",
    "from bs4 import BeautifulSoup\n",
    "# Importing the HTTP library\n",
    "import requests as req\n",
    "from tqdm import tqdm\n",
    "#from extract import filename \n",
    "import os "
   ]
  },
  {
   "cell_type": "code",
   "execution_count": 5,
   "metadata": {},
   "outputs": [],
   "source": [
    "# Assign values to the desired column\n",
    "df = pd.DataFrame({'Key word': [\"scope 1\", \"scope one\", \"scope 2\", \"scope two\", \"scope 3\", \"scope three\",\n",
    "                                 \"emissions\", \"GHG emissions\", \"GHG\", \"carbon emissions\", \"carbon\"]})\n",
    "\n",
    "\n",
    "# Write the updated DataFrame back to the CSV file\n",
    "df.to_csv('source.csv', index=False)\n"
   ]
  },
  {
   "cell_type": "code",
   "execution_count": null,
   "metadata": {},
   "outputs": [],
   "source": [
    "# Read in the CSV file as a pandas DataFrame\n",
    "data = pd.read_csv('source.csv')\n",
    "# Specify the CSV file name and column name\n",
    "column_name = 'Frequency'\n",
    "key_word = data['Key word']\n",
    "for i in range(len(key_word)):\n",
    "    with open('sample2.txt', 'r') as fp:\n",
    "        lines = fp.readlines()\n",
    "        string = key_word[i]\n",
    "        for line in lines:\n",
    "            if line.find(string) != -1:\n",
    "                print(string)\n",
    "                data.loc[i, column_name] += 1 \n",
    "                data.to_csv('source.csv', index=False)\n",
    "\n",
    "\n"
   ]
  },
  {
   "cell_type": "code",
   "execution_count": 3,
   "metadata": {},
   "outputs": [
    {
     "name": "stdout",
     "output_type": "stream",
     "text": [
      "{'scope 1': 0, 'scope one': 0, 'scope 2': 0, 'scope two': 0, 'scope 3': 0, 'scope three': 0, 'emissions': 21, 'GHG emissions': 10, 'GHG': 17, 'carbon emissions': 3, 'carbon': 22, 'Intuit': 367}\n"
     ]
    }
   ],
   "source": [
    "# build the dict structure for hierarchy\n",
    "key_word = data['Key Word']\n",
    "freq = data['Frequency']\n",
    "tuples = zip(key_word, freq)\n",
    "d = dict(tuples)\n",
    "print(d)\n",
    "\n",
    "# remaining 1.match the corresponding source paper using token number \n",
    "#           2.parallel testing  \n",
    "#           3.given the hierarchy, optimize the searching results with higher accuracy"
   ]
  },
  {
   "cell_type": "code",
   "execution_count": null,
   "metadata": {},
   "outputs": [],
   "source": [
    "def find_relevant_scope(filename, number,target):\n",
    "    \"\"\"\n",
    "    This function takes in a text file with multiple occurrences of the word \"scope\",\n",
    "    and returns the most relevant instance of the word that contains a specific number.\n",
    "\n",
    "    :param filename: A string representing the name of the text file to search\n",
    "    :param number: An integer representing the specific number to search for within the relevant scope\n",
    "    :return: A string representing the most relevant scope that contains the specific number\n",
    "    \"\"\"\n",
    "    with open(filename, 'r') as f:\n",
    "        text = f.read()\n",
    "    scopes = text.split(target)\n",
    "    relevant_scopes = []\n",
    "    for scope in scopes:\n",
    "        if str(number) in scope:\n",
    "            relevant_scopes.append(scope)\n",
    "    if len(relevant_scopes) == 0:\n",
    "        return f\"No relevant scope containing the number {number} was found.\"\n",
    "    scores = []\n",
    "    for scope in relevant_scopes:\n",
    "        score = scope.count(' ') / len(scope)\n",
    "        scores.append(score)\n",
    "    max_score_index = scores.index(max(scores))\n",
    "    return relevant_scopes[max_score_index]\n"
   ]
  }
 ],
 "metadata": {
  "kernelspec": {
   "display_name": "base",
   "language": "python",
   "name": "python3"
  },
  "language_info": {
   "codemirror_mode": {
    "name": "ipython",
    "version": 3
   },
   "file_extension": ".py",
   "mimetype": "text/x-python",
   "name": "python",
   "nbconvert_exporter": "python",
   "pygments_lexer": "ipython3",
   "version": "3.9.13"
  },
  "orig_nbformat": 4
 },
 "nbformat": 4,
 "nbformat_minor": 2
}
